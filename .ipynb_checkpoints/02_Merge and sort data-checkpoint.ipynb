{
 "cells": [
  {
   "cell_type": "markdown",
   "id": "bca14cc0",
   "metadata": {},
   "source": [
    "# Объединение и сортировка данных "
   ]
  },
  {
   "cell_type": "code",
   "execution_count": 2,
   "id": "226f50d8",
   "metadata": {},
   "outputs": [],
   "source": [
    "### Загрузка библиотек\n",
    "\n",
    "import pandas as pd\n",
    "import numpy as np\n",
    "import math\n",
    "import os\n",
    "import xlsxwriter\n",
    "import matplotlib.pyplot as plt\n",
    "from Bio import SeqIO\n",
    "import urllib.request\n",
    "from bioservices import UniProt\n",
    "\n",
    "%matplotlib inline"
   ]
  },
  {
   "cell_type": "code",
   "execution_count": 3,
   "id": "46f417f7",
   "metadata": {},
   "outputs": [],
   "source": [
    "### Получение названий всех проб \n",
    "\n",
    "names=[]\n",
    "for root, dirs, files in os.walk('Concentrations'):\n",
    "    for filename in files:\n",
    "        names.append(filename)"
   ]
  },
  {
   "cell_type": "code",
   "execution_count": 4,
   "id": "d0e77624",
   "metadata": {},
   "outputs": [],
   "source": [
    "### Объединение (Нужно, если несколько Excel файлов, особенно, когда обрабатывается каждый донор отдельно)\n",
    "\n",
    "group = pd.DataFrame()\n",
    "\n",
    "for i in range(len(names)):\n",
    "    data = pd.read_excel('Concentrations/'+names[i]) \n",
    "    data = data.set_index('Majority protein IDs')\n",
    "    group = pd.merge(group, data, left_index=True, right_index=True, how=\"outer\")\n",
    "    \n"
   ]
  },
  {
   "cell_type": "code",
   "execution_count": 6,
   "id": "c03e8e99",
   "metadata": {},
   "outputs": [
    {
     "name": "stderr",
     "output_type": "stream",
     "text": [
      "\u001b[33mWARNING [bioservices.UniProt:596]: \u001b[0m \u001b[32mstatus is not ok with Bad Request\u001b[0m\n",
      "\u001b[33mWARNING [bioservices.UniProt:596]: \u001b[0m \u001b[32mstatus is not ok with Bad Request\u001b[0m\n",
      "\u001b[33mWARNING [bioservices.UniProt:596]: \u001b[0m \u001b[32mstatus is not ok with Bad Request\u001b[0m\n",
      "\u001b[33mWARNING [bioservices.UniProt:596]: \u001b[0m \u001b[32mstatus is not ok with Bad Request\u001b[0m\n",
      "\u001b[33mWARNING [bioservices.UniProt:596]: \u001b[0m \u001b[32mstatus is not ok with Bad Request\u001b[0m\n",
      "\u001b[33mWARNING [bioservices.UniProt:596]: \u001b[0m \u001b[32mstatus is not ok with Bad Request\u001b[0m\n",
      "\u001b[33mWARNING [bioservices.UniProt:596]: \u001b[0m \u001b[32mstatus is not ok with Bad Request\u001b[0m\n",
      "\u001b[33mWARNING [bioservices.UniProt:596]: \u001b[0m \u001b[32mstatus is not ok with Bad Request\u001b[0m\n",
      "\u001b[33mWARNING [bioservices.UniProt:596]: \u001b[0m \u001b[32mstatus is not ok with Bad Request\u001b[0m\n",
      "\u001b[33mWARNING [bioservices.UniProt:596]: \u001b[0m \u001b[32mstatus is not ok with Bad Request\u001b[0m\n",
      "\u001b[33mWARNING [bioservices.UniProt:596]: \u001b[0m \u001b[32mstatus is not ok with Bad Request\u001b[0m\n",
      "\u001b[33mWARNING [bioservices.UniProt:596]: \u001b[0m \u001b[32mstatus is not ok with Bad Request\u001b[0m\n",
      "\u001b[33mWARNING [bioservices.UniProt:596]: \u001b[0m \u001b[32mstatus is not ok with Bad Request\u001b[0m\n",
      "\u001b[33mWARNING [bioservices.UniProt:596]: \u001b[0m \u001b[32mstatus is not ok with Bad Request\u001b[0m\n",
      "\u001b[33mWARNING [bioservices.UniProt:596]: \u001b[0m \u001b[32mstatus is not ok with Bad Request\u001b[0m\n",
      "\u001b[33mWARNING [bioservices.UniProt:596]: \u001b[0m \u001b[32mstatus is not ok with Bad Request\u001b[0m\n",
      "\u001b[33mWARNING [bioservices.UniProt:596]: \u001b[0m \u001b[32mstatus is not ok with Bad Request\u001b[0m\n",
      "\u001b[33mWARNING [bioservices.UniProt:596]: \u001b[0m \u001b[32mstatus is not ok with Bad Request\u001b[0m\n",
      "\u001b[33mWARNING [bioservices.UniProt:596]: \u001b[0m \u001b[32mstatus is not ok with Bad Request\u001b[0m\n",
      "\u001b[33mWARNING [bioservices.UniProt:596]: \u001b[0m \u001b[32mstatus is not ok with Bad Request\u001b[0m\n",
      "\u001b[33mWARNING [bioservices.UniProt:596]: \u001b[0m \u001b[32mstatus is not ok with Bad Request\u001b[0m\n",
      "\u001b[33mWARNING [bioservices.UniProt:596]: \u001b[0m \u001b[32mstatus is not ok with Bad Request\u001b[0m\n",
      "\u001b[33mWARNING [bioservices.UniProt:596]: \u001b[0m \u001b[32mstatus is not ok with Bad Request\u001b[0m\n",
      "\u001b[33mWARNING [bioservices.UniProt:596]: \u001b[0m \u001b[32mstatus is not ok with Bad Request\u001b[0m\n",
      "\u001b[33mWARNING [bioservices.UniProt:596]: \u001b[0m \u001b[32mstatus is not ok with Bad Request\u001b[0m\n",
      "\u001b[33mWARNING [bioservices.UniProt:596]: \u001b[0m \u001b[32mstatus is not ok with Bad Request\u001b[0m\n",
      "\u001b[33mWARNING [bioservices.UniProt:596]: \u001b[0m \u001b[32mstatus is not ok with Bad Request\u001b[0m\n",
      "\u001b[33mWARNING [bioservices.UniProt:596]: \u001b[0m \u001b[32mstatus is not ok with Bad Request\u001b[0m\n",
      "\u001b[33mWARNING [bioservices.UniProt:596]: \u001b[0m \u001b[32mstatus is not ok with Bad Request\u001b[0m\n",
      "\u001b[33mWARNING [bioservices.UniProt:596]: \u001b[0m \u001b[32mstatus is not ok with Bad Request\u001b[0m\n",
      "\u001b[33mWARNING [bioservices.UniProt:596]: \u001b[0m \u001b[32mstatus is not ok with Bad Request\u001b[0m\n",
      "\u001b[33mWARNING [bioservices.UniProt:596]: \u001b[0m \u001b[32mstatus is not ok with Bad Request\u001b[0m\n",
      "\u001b[33mWARNING [bioservices.UniProt:596]: \u001b[0m \u001b[32mstatus is not ok with Bad Request\u001b[0m\n",
      "\u001b[33mWARNING [bioservices.UniProt:596]: \u001b[0m \u001b[32mstatus is not ok with Bad Request\u001b[0m\n",
      "\u001b[33mWARNING [bioservices.UniProt:596]: \u001b[0m \u001b[32mstatus is not ok with Bad Request\u001b[0m\n",
      "\u001b[33mWARNING [bioservices.UniProt:596]: \u001b[0m \u001b[32mstatus is not ok with Bad Request\u001b[0m\n",
      "\u001b[33mWARNING [bioservices.UniProt:596]: \u001b[0m \u001b[32mstatus is not ok with Bad Request\u001b[0m\n",
      "\u001b[33mWARNING [bioservices.UniProt:596]: \u001b[0m \u001b[32mstatus is not ok with Bad Request\u001b[0m\n",
      "\u001b[33mWARNING [bioservices.UniProt:596]: \u001b[0m \u001b[32mstatus is not ok with Bad Request\u001b[0m\n",
      "\u001b[33mWARNING [bioservices.UniProt:596]: \u001b[0m \u001b[32mstatus is not ok with Bad Request\u001b[0m\n",
      "\u001b[33mWARNING [bioservices.UniProt:596]: \u001b[0m \u001b[32mstatus is not ok with Bad Request\u001b[0m\n",
      "\u001b[33mWARNING [bioservices.UniProt:596]: \u001b[0m \u001b[32mstatus is not ok with Bad Request\u001b[0m\n",
      "\u001b[33mWARNING [bioservices.UniProt:596]: \u001b[0m \u001b[32mstatus is not ok with Bad Request\u001b[0m\n",
      "\u001b[33mWARNING [bioservices.UniProt:596]: \u001b[0m \u001b[32mstatus is not ok with Bad Request\u001b[0m\n",
      "\u001b[33mWARNING [bioservices.UniProt:596]: \u001b[0m \u001b[32mstatus is not ok with Bad Request\u001b[0m\n",
      "\u001b[33mWARNING [bioservices.UniProt:596]: \u001b[0m \u001b[32mstatus is not ok with Bad Request\u001b[0m\n",
      "\u001b[33mWARNING [bioservices.UniProt:596]: \u001b[0m \u001b[32mstatus is not ok with Bad Request\u001b[0m\n",
      "\u001b[33mWARNING [bioservices.UniProt:596]: \u001b[0m \u001b[32mstatus is not ok with Bad Request\u001b[0m\n",
      "\u001b[33mWARNING [bioservices.UniProt:596]: \u001b[0m \u001b[32mstatus is not ok with Bad Request\u001b[0m\n",
      "\u001b[33mWARNING [bioservices.UniProt:596]: \u001b[0m \u001b[32mstatus is not ok with Bad Request\u001b[0m\n",
      "\u001b[33mWARNING [bioservices.UniProt:596]: \u001b[0m \u001b[32mstatus is not ok with Bad Request\u001b[0m\n",
      "\u001b[33mWARNING [bioservices.UniProt:596]: \u001b[0m \u001b[32mstatus is not ok with Bad Request\u001b[0m\n",
      "\u001b[33mWARNING [bioservices.UniProt:596]: \u001b[0m \u001b[32mstatus is not ok with Bad Request\u001b[0m\n",
      "\u001b[33mWARNING [bioservices.UniProt:596]: \u001b[0m \u001b[32mstatus is not ok with Bad Request\u001b[0m\n",
      "\u001b[33mWARNING [bioservices.UniProt:596]: \u001b[0m \u001b[32mstatus is not ok with Bad Request\u001b[0m\n",
      "\u001b[33mWARNING [bioservices.UniProt:596]: \u001b[0m \u001b[32mstatus is not ok with Bad Request\u001b[0m\n",
      "\u001b[33mWARNING [bioservices.UniProt:596]: \u001b[0m \u001b[32mstatus is not ok with Bad Request\u001b[0m\n",
      "\u001b[33mWARNING [bioservices.UniProt:596]: \u001b[0m \u001b[32mstatus is not ok with Bad Request\u001b[0m\n",
      "\u001b[33mWARNING [bioservices.UniProt:596]: \u001b[0m \u001b[32mstatus is not ok with Bad Request\u001b[0m\n",
      "\u001b[33mWARNING [bioservices.UniProt:596]: \u001b[0m \u001b[32mstatus is not ok with Bad Request\u001b[0m\n",
      "\u001b[33mWARNING [bioservices.UniProt:596]: \u001b[0m \u001b[32mstatus is not ok with Bad Request\u001b[0m\n",
      "\u001b[33mWARNING [bioservices.UniProt:596]: \u001b[0m \u001b[32mstatus is not ok with Bad Request\u001b[0m\n",
      "\u001b[33mWARNING [bioservices.UniProt:596]: \u001b[0m \u001b[32mstatus is not ok with Bad Request\u001b[0m\n",
      "\u001b[33mWARNING [bioservices.UniProt:596]: \u001b[0m \u001b[32mstatus is not ok with Bad Request\u001b[0m\n",
      "\u001b[33mWARNING [bioservices.UniProt:596]: \u001b[0m \u001b[32mstatus is not ok with Bad Request\u001b[0m\n",
      "\u001b[33mWARNING [bioservices.UniProt:596]: \u001b[0m \u001b[32mstatus is not ok with Bad Request\u001b[0m\n",
      "\u001b[33mWARNING [bioservices.UniProt:596]: \u001b[0m \u001b[32mstatus is not ok with Bad Request\u001b[0m\n",
      "\u001b[33mWARNING [bioservices.UniProt:596]: \u001b[0m \u001b[32mstatus is not ok with Bad Request\u001b[0m\n",
      "\u001b[33mWARNING [bioservices.UniProt:596]: \u001b[0m \u001b[32mstatus is not ok with Bad Request\u001b[0m\n",
      "\u001b[33mWARNING [bioservices.UniProt:596]: \u001b[0m \u001b[32mstatus is not ok with Bad Request\u001b[0m\n",
      "\u001b[33mWARNING [bioservices.UniProt:596]: \u001b[0m \u001b[32mstatus is not ok with Bad Request\u001b[0m\n",
      "\u001b[33mWARNING [bioservices.UniProt:596]: \u001b[0m \u001b[32mstatus is not ok with Bad Request\u001b[0m\n",
      "\u001b[33mWARNING [bioservices.UniProt:596]: \u001b[0m \u001b[32mstatus is not ok with Bad Request\u001b[0m\n",
      "\u001b[33mWARNING [bioservices.UniProt:596]: \u001b[0m \u001b[32mstatus is not ok with Bad Request\u001b[0m\n",
      "\u001b[33mWARNING [bioservices.UniProt:596]: \u001b[0m \u001b[32mstatus is not ok with Bad Request\u001b[0m\n",
      "\u001b[33mWARNING [bioservices.UniProt:596]: \u001b[0m \u001b[32mstatus is not ok with Bad Request\u001b[0m\n",
      "\u001b[33mWARNING [bioservices.UniProt:596]: \u001b[0m \u001b[32mstatus is not ok with Bad Request\u001b[0m\n",
      "\u001b[33mWARNING [bioservices.UniProt:596]: \u001b[0m \u001b[32mstatus is not ok with Bad Request\u001b[0m\n",
      "\u001b[33mWARNING [bioservices.UniProt:596]: \u001b[0m \u001b[32mstatus is not ok with Bad Request\u001b[0m\n",
      "\u001b[33mWARNING [bioservices.UniProt:596]: \u001b[0m \u001b[32mstatus is not ok with Bad Request\u001b[0m\n",
      "\u001b[33mWARNING [bioservices.UniProt:596]: \u001b[0m \u001b[32mstatus is not ok with Bad Request\u001b[0m\n",
      "\u001b[33mWARNING [bioservices.UniProt:596]: \u001b[0m \u001b[32mstatus is not ok with Bad Request\u001b[0m\n",
      "\u001b[33mWARNING [bioservices.UniProt:596]: \u001b[0m \u001b[32mstatus is not ok with Bad Request\u001b[0m\n",
      "\u001b[33mWARNING [bioservices.UniProt:596]: \u001b[0m \u001b[32mstatus is not ok with Bad Request\u001b[0m\n",
      "\u001b[33mWARNING [bioservices.UniProt:596]: \u001b[0m \u001b[32mstatus is not ok with Bad Request\u001b[0m\n",
      "\u001b[33mWARNING [bioservices.UniProt:596]: \u001b[0m \u001b[32mstatus is not ok with Bad Request\u001b[0m\n",
      "\u001b[33mWARNING [bioservices.UniProt:596]: \u001b[0m \u001b[32mstatus is not ok with Bad Request\u001b[0m\n",
      "\u001b[33mWARNING [bioservices.UniProt:596]: \u001b[0m \u001b[32mstatus is not ok with Bad Request\u001b[0m\n",
      "\u001b[33mWARNING [bioservices.UniProt:596]: \u001b[0m \u001b[32mstatus is not ok with Bad Request\u001b[0m\n",
      "\u001b[33mWARNING [bioservices.UniProt:596]: \u001b[0m \u001b[32mstatus is not ok with Bad Request\u001b[0m\n",
      "\u001b[33mWARNING [bioservices.UniProt:596]: \u001b[0m \u001b[32mstatus is not ok with Bad Request\u001b[0m\n",
      "\u001b[33mWARNING [bioservices.UniProt:596]: \u001b[0m \u001b[32mstatus is not ok with Bad Request\u001b[0m\n",
      "\u001b[33mWARNING [bioservices.UniProt:596]: \u001b[0m \u001b[32mstatus is not ok with Bad Request\u001b[0m\n",
      "\u001b[33mWARNING [bioservices.UniProt:596]: \u001b[0m \u001b[32mstatus is not ok with Bad Request\u001b[0m\n"
     ]
    },
    {
     "name": "stderr",
     "output_type": "stream",
     "text": [
      "\u001b[33mWARNING [bioservices.UniProt:596]: \u001b[0m \u001b[32mstatus is not ok with Bad Request\u001b[0m\n",
      "\u001b[33mWARNING [bioservices.UniProt:596]: \u001b[0m \u001b[32mstatus is not ok with Bad Request\u001b[0m\n",
      "\u001b[33mWARNING [bioservices.UniProt:596]: \u001b[0m \u001b[32mstatus is not ok with Bad Request\u001b[0m\n",
      "\u001b[33mWARNING [bioservices.UniProt:596]: \u001b[0m \u001b[32mstatus is not ok with Bad Request\u001b[0m\n",
      "\u001b[33mWARNING [bioservices.UniProt:596]: \u001b[0m \u001b[32mstatus is not ok with Bad Request\u001b[0m\n",
      "\u001b[33mWARNING [bioservices.UniProt:596]: \u001b[0m \u001b[32mstatus is not ok with Bad Request\u001b[0m\n"
     ]
    }
   ],
   "source": [
    "## Нахождение и запись названий белков по базе UniProt \n",
    "# В какой-то момент может перестать работать, тк UniProt иногда меняет синтаксис для service.search()\n",
    "# WARNING - нормально - не может определить контаминанты или неоднозначно определенный белок. \n",
    "# Поиск занимает определенное время\n",
    "\n",
    "service = UniProt(verbose=False)\n",
    "rt=[]\n",
    "gl =list(group.index)\n",
    "for i in range(len(gl)):\n",
    "    try:\n",
    "        b=service.search(gl[i]+'+and+taxonomy_id:9606', frmt=\"tsv\", limit=3,\n",
    "                columns=\"id\")\n",
    "        try:\n",
    "            rt.append(list(b.split(\"\\n\"))[1])\n",
    "        except:\n",
    "            rt.append('NaN')\n",
    "    except:\n",
    "        rt.append('NaN')\n",
    "\n",
    "group.insert(loc=0, column='Protein name', value=rt)"
   ]
  },
  {
   "cell_type": "code",
   "execution_count": 7,
   "id": "b0261885",
   "metadata": {},
   "outputs": [],
   "source": [
    "# Убираем неопределившиеся белки или белки без названия\n",
    "\n",
    "group.drop(group[group['Protein name'] == 'NaN'].index, inplace = True)"
   ]
  },
  {
   "cell_type": "code",
   "execution_count": 9,
   "id": "9f62c02e",
   "metadata": {},
   "outputs": [],
   "source": [
    "#Убираем белки, которые определились только в одном доноре\n",
    "\n",
    "cc = group.count(axis=1)\n",
    "for i in reversed(range(len(cc))):\n",
    "    if cc[i]<=5:\n",
    "        group = group.drop(group.index[i])"
   ]
  },
  {
   "cell_type": "code",
   "execution_count": 10,
   "id": "999538d8",
   "metadata": {},
   "outputs": [],
   "source": [
    "#\n",
    "\n",
    "group = group.replace(float('nan'), 'n/d', regex = True)\n",
    "group = group.replace(0, 'n/d', regex = True)"
   ]
  },
  {
   "cell_type": "code",
   "execution_count": 10,
   "id": "041790ea",
   "metadata": {},
   "outputs": [],
   "source": [
    "### Сохранение\n",
    "\n",
    "writer = pd.ExcelWriter('all Tables/Combined.xlsx', engine='xlsxwriter')\n",
    "\n",
    "group.to_excel(writer, sheet_name='Group')\n",
    "\n",
    "\n",
    "writer.save()"
   ]
  }
 ],
 "metadata": {
  "kernelspec": {
   "display_name": "Python 3 (ipykernel)",
   "language": "python",
   "name": "python3"
  },
  "language_info": {
   "codemirror_mode": {
    "name": "ipython",
    "version": 3
   },
   "file_extension": ".py",
   "mimetype": "text/x-python",
   "name": "python",
   "nbconvert_exporter": "python",
   "pygments_lexer": "ipython3",
   "version": "3.9.12"
  },
  "varInspector": {
   "cols": {
    "lenName": 16,
    "lenType": 16,
    "lenVar": 40
   },
   "kernels_config": {
    "python": {
     "delete_cmd_postfix": "",
     "delete_cmd_prefix": "del ",
     "library": "var_list.py",
     "varRefreshCmd": "print(var_dic_list())"
    },
    "r": {
     "delete_cmd_postfix": ") ",
     "delete_cmd_prefix": "rm(",
     "library": "var_list.r",
     "varRefreshCmd": "cat(var_dic_list()) "
    }
   },
   "types_to_exclude": [
    "module",
    "function",
    "builtin_function_or_method",
    "instance",
    "_Feature"
   ],
   "window_display": false
  }
 },
 "nbformat": 4,
 "nbformat_minor": 5
}
