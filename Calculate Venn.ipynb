{
 "cells": [
  {
   "cell_type": "markdown",
   "id": "7b73d76b",
   "metadata": {},
   "source": [
    "# Получение данных для построения диаграмы Венна"
   ]
  },
  {
   "cell_type": "code",
   "execution_count": 1,
   "id": "f78e7e75",
   "metadata": {},
   "outputs": [],
   "source": [
    "import pandas as pd\n",
    "import numpy as np\n",
    "from matplotlib_venn import venn2, venn3\n",
    "import matplotlib.pyplot as plt"
   ]
  },
  {
   "cell_type": "code",
   "execution_count": 3,
   "id": "8b3e1650",
   "metadata": {},
   "outputs": [],
   "source": [
    "# Выбираем нужные нам колонки, соответсвующие интересующим группам\n",
    "\n",
    "data1 = pd.read_excel('all Tables/Combined.xlsx',index_col='Majority protein IDs',usecols='A,C:E') \n",
    "data2 = pd.read_excel('all Tables/Combined.xlsx',index_col='Majority protein IDs',usecols='A,H:J') \n",
    "data3 = pd.read_excel('all Tables/Combined.xlsx',index_col='Majority protein IDs',usecols='A,N:Q')\n",
    "\n",
    "dfb1 = pd.DataFrame(data1)\n",
    "dfb2 = pd.DataFrame(data2)\n",
    "dfb3 = pd.DataFrame(data3)\n",
    "\n",
    "dfb1.replace('n/d', np.nan, inplace=True)\n",
    "dfb2.replace('n/d', np.nan, inplace=True)\n",
    "dfb3.replace('n/d', np.nan, inplace=True)"
   ]
  },
  {
   "cell_type": "code",
   "execution_count": 4,
   "id": "542c55b2",
   "metadata": {},
   "outputs": [],
   "source": [
    "dfb1.dropna(axis = 0, how = 'all', inplace = True)\n",
    "dfb2.dropna(axis = 0, how = 'all', inplace = True)\n",
    "dfb3.dropna(axis = 0, how = 'all', inplace = True)"
   ]
  },
  {
   "cell_type": "code",
   "execution_count": 6,
   "id": "70dbea92",
   "metadata": {},
   "outputs": [],
   "source": [
    "### Для сравнения с Burkhart \n",
    "\n",
    "#ref = dfb['Protein IDs'].tolist()\n",
    "\n",
    "###Ljgjkybntkmyj pfuhepbnm файл Burkhart.xlsx \n",
    "\n",
    "#data1 = pd.read_excel('Burkhart.xlsx') \n",
    "#dfb1 = pd.DataFrame(data1)\n",
    "#ref1 = dfb1['Accession'].tolist()"
   ]
  },
  {
   "cell_type": "code",
   "execution_count": 9,
   "id": "dc5558cc",
   "metadata": {},
   "outputs": [],
   "source": [
    "#Выбираем только те белки, которые хотя бы у одного донора данной группы\n",
    "\n",
    "ref1 = dfb1.index.values.tolist()\n",
    "ref2 = dfb2.index.values.tolist()\n",
    "ref3 = dfb3.index.values.tolist()"
   ]
  },
  {
   "cell_type": "code",
   "execution_count": 10,
   "id": "b1f147ac",
   "metadata": {},
   "outputs": [],
   "source": [
    "set1 = set(ref1)\n",
    "set2 = set(ref2)\n",
    "set3 = set(ref3)"
   ]
  },
  {
   "cell_type": "code",
   "execution_count": 11,
   "id": "04de51bf",
   "metadata": {},
   "outputs": [
    {
     "data": {
      "image/png": "[encoded data removed]",
      "text/plain": [
       "<Figure size 432x288 with 1 Axes>"
      ]
     },
     "metadata": {},
     "output_type": "display_data"
    }
   ],
   "source": [
    "#Называем группы. Далее полученные числа используем для построения графиков\n",
    "\n",
    "venn3([set1, set2,set3], ('CHILDREN', 'ADOLESCENT','ADULT'))\n",
    "\n",
    "plt.show()"
   ]
  }
 ],
 "metadata": {
  "kernelspec": {
   "display_name": "Python 3 (ipykernel)",
   "language": "python",
   "name": "python3"
  },
  "language_info": {
   "codemirror_mode": {
    "name": "ipython",
    "version": 3
   },
   "file_extension": ".py",
   "mimetype": "text/x-python",
   "name": "python",
   "nbconvert_exporter": "python",
   "pygments_lexer": "ipython3",
   "version": "3.9.12"
  },
  "varInspector": {
   "cols": {
    "lenName": 16,
    "lenType": 16,
    "lenVar": 40
   },
   "kernels_config": {
    "python": {
     "delete_cmd_postfix": "",
     "delete_cmd_prefix": "del ",
     "library": "var_list.py",
     "varRefreshCmd": "print(var_dic_list())"
    },
    "r": {
     "delete_cmd_postfix": ") ",
     "delete_cmd_prefix": "rm(",
     "library": "var_list.r",
     "varRefreshCmd": "cat(var_dic_list()) "
    }
   },
   "types_to_exclude": [
    "module",
    "function",
    "builtin_function_or_method",
    "instance",
    "_Feature"
   ],
   "window_display": false
  }
 },
 "nbformat": 4,
 "nbformat_minor": 5
}
