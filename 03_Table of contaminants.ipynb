{
 "cells": [
  {
   "cell_type": "markdown",
   "id": "220ab01e",
   "metadata": {},
   "source": [
    "# Определение контаминантов\n",
    "\n",
    "Нахождение и подчеркивание белков, которые входят в топ-100 белков плазмы и топ-100 белков эритроцитов"
   ]
  },
  {
   "cell_type": "code",
   "execution_count": 14,
   "id": "a7495c20",
   "metadata": {},
   "outputs": [],
   "source": [
    "import pandas as pd\n",
    "import xlsxwriter"
   ]
  },
  {
   "cell_type": "code",
   "execution_count": 15,
   "id": "b1385ce2",
   "metadata": {},
   "outputs": [],
   "source": [
    "# Загрузка перекалиброванных данных и таблицы контаминации\n",
    "\n",
    "data = pd.read_excel('all Tables/Combined.xlsx') \n",
    "dfb = pd.DataFrame(data)\n",
    "ref = dfb['Majority protein IDs'].tolist()\n",
    "\n",
    "contam = pd.read_excel('all Tables/contaminants.xlsx') \n",
    "df = pd.DataFrame(contam)\n",
    "rbc = df['RBC'].tolist()\n",
    "plas = df['Plasma'].tolist()"
   ]
  },
  {
   "cell_type": "code",
   "execution_count": 16,
   "id": "8901675a",
   "metadata": {},
   "outputs": [],
   "source": [
    "# Если белок находится в топ-100, то в таблице отмечается \"Yes\"\n",
    "\n",
    "r_con = []\n",
    "p_con = []\n",
    "for i in range(len(ref)):\n",
    "    if ref[i] in rbc:\n",
    "        r_con.append('Yes')\n",
    "    else:\n",
    "        r_con.append('')\n",
    "    if ref[i] in plas:\n",
    "        p_con.append('Yes')\n",
    "    else:\n",
    "        p_con.append('')\n",
    "        \n",
    "contaminants = pd.DataFrame(list(zip(r_con, p_con)))"
   ]
  },
  {
   "cell_type": "code",
   "execution_count": 17,
   "id": "9bb1afa0",
   "metadata": {},
   "outputs": [],
   "source": [
    "# Сохранение в виде отдельной таблицы. Порядок - как в исходной \"Combined.xlsx\"\n",
    "\n",
    "contaminants.to_excel('all Tables/ContamYes.xlsx')"
   ]
  },
  {
   "cell_type": "code",
   "execution_count": 18,
   "id": "fd5535e8",
   "metadata": {},
   "outputs": [],
   "source": [
    "# Сохранение общей таблицы, с добавлением контаминации в конце\n",
    "\n",
    "dfb['Top 100 RBC'] = r_con\n",
    "dfb['Top 100 plasma'] = p_con\n",
    "\n",
    "dfb.to_excel('all Tables/Combined_contamination.xlsx')"
   ]
  }
 ],
 "metadata": {
  "kernelspec": {
   "display_name": "Python 3 (ipykernel)",
   "language": "python",
   "name": "python3"
  },
  "language_info": {
   "codemirror_mode": {
    "name": "ipython",
    "version": 3
   },
   "file_extension": ".py",
   "mimetype": "text/x-python",
   "name": "python",
   "nbconvert_exporter": "python",
   "pygments_lexer": "ipython3",
   "version": "3.9.12"
  },
  "varInspector": {
   "cols": {
    "lenName": 16,
    "lenType": 16,
    "lenVar": 40
   },
   "kernels_config": {
    "python": {
     "delete_cmd_postfix": "",
     "delete_cmd_prefix": "del ",
     "library": "var_list.py",
     "varRefreshCmd": "print(var_dic_list())"
    },
    "r": {
     "delete_cmd_postfix": ") ",
     "delete_cmd_prefix": "rm(",
     "library": "var_list.r",
     "varRefreshCmd": "cat(var_dic_list()) "
    }
   },
   "types_to_exclude": [
    "module",
    "function",
    "builtin_function_or_method",
    "instance",
    "_Feature"
   ],
   "window_display": false
  }
 },
 "nbformat": 4,
 "nbformat_minor": 5
}
